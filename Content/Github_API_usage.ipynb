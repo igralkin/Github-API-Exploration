{
  "nbformat": 4,
  "nbformat_minor": 0,
  "metadata": {
    "colab": {
      "provenance": []
    },
    "kernelspec": {
      "name": "python3",
      "display_name": "Python 3"
    },
    "language_info": {
      "name": "python"
    }
  },
  "cells": [
    {
      "cell_type": "code",
      "execution_count": 49,
      "metadata": {
        "id": "6wfp5zE7nTrR"
      },
      "outputs": [],
      "source": [
        "import requests\n",
        "import time\n",
        "import math\n",
        "from typing import List, Dict, Optional, Any, NoReturn"
      ]
    },
    {
      "cell_type": "code",
      "source": [
        "class GitHubAPI:\n",
        "    \"\"\"Class for interacting with the GitHub API.\"\"\"\n",
        "\n",
        "    def __init__(self, token: str) -> None:\n",
        "        \"\"\"\n",
        "        Initialize the GitHubAPI instance with a Personal Access Token.\n",
        "\n",
        "        :param token: GitHub Personal Access Token for authentication.\n",
        "        \"\"\"\n",
        "        self.base_url: str = \"https://api.github.com\"\n",
        "        self.headers: Dict[str, str] = {\n",
        "            \"Authorization\": f\"Bearer {token}\",\n",
        "            \"Accept\": \"application/vnd.github+json\"\n",
        "        }\n",
        "\n",
        "    def _handle_rate_limit(self, response: requests.Response) -> requests.Response:\n",
        "        \"\"\"\n",
        "        Handle rate limits by waiting until the reset time if exceeded.\n",
        "\n",
        "        :param response: The response object from the API call.\n",
        "        :return: The response object after handling rate limits.\n",
        "        \"\"\"\n",
        "        if response.status_code == 403 and \"X-RateLimit-Remaining\" in response.headers:\n",
        "            remaining_requests = int(response.headers.get(\"X-RateLimit-Remaining\", 0))\n",
        "            reset_time = int(response.headers.get(\"X-RateLimit-Reset\", time.time()))\n",
        "            wait_time = reset_time - int(time.time())\n",
        "            if remaining_requests == 0:\n",
        "                print(f\"Rate limit exceeded. Waiting for {wait_time} seconds...\")\n",
        "                time.sleep(wait_time + 1)\n",
        "        return response\n",
        "\n",
        "    def search_repositories(\n",
        "        self, query: str, sort: str = \"stars\", order: str = \"desc\",\n",
        "        per_page: int = 10, max_repos: int = 100, delay: float = 1.0\n",
        "    ) -> List[Dict[str, Any]]:\n",
        "        \"\"\"\n",
        "        Search for public repositories with pagination, limiting results and adding delays.\n",
        "\n",
        "        :param query: Search query string.\n",
        "        :param sort: Sort by (e.g., \"stars\", \"forks\", \"updated\").\n",
        "        :param order: Order of results (\"asc\" or \"desc\").\n",
        "        :param per_page: Number of results per page.\n",
        "        :param max_repos: Maximum number of repositories to retrieve.\n",
        "        :param delay: Time in seconds to wait between page queries.\n",
        "        :return: List of repository data.\n",
        "        \"\"\"\n",
        "        all_results: List[Dict[str, Any]] = []\n",
        "        page: int = 1\n",
        "\n",
        "        # Calculate total pages to query\n",
        "        url = f\"{self.base_url}/search/repositories\"\n",
        "        params = {\"q\": query, \"sort\": sort, \"order\": order, \"per_page\": per_page, \"page\": page}\n",
        "        response = requests.get(url, headers=self.headers, params=params)\n",
        "\n",
        "        if response.status_code != 200:\n",
        "            if response.status_code == 403:\n",
        "                print(\"Rate limit exceeded. Retrying after a delay...\")\n",
        "                self._handle_rate_limit(response)\n",
        "            else:\n",
        "                print(f\"Error: {response.status_code}, {response.text}\")\n",
        "            return []\n",
        "\n",
        "        data = response.json()\n",
        "        total_count: int = data.get(\"total_count\", 0)\n",
        "        total_pages: int = math.ceil(min(total_count, max_repos) / per_page)\n",
        "\n",
        "        # Process first page\n",
        "        all_results.extend(data.get(\"items\", []))\n",
        "\n",
        "        # Process remaining pages\n",
        "        for page in range(2, total_pages + 1):\n",
        "            if len(all_results) >= max_repos:\n",
        "                break\n",
        "\n",
        "            params[\"page\"] = page\n",
        "            response = requests.get(url, headers=self.headers, params=params)\n",
        "\n",
        "            if response.status_code != 200:\n",
        "                if response.status_code == 403:\n",
        "                    print(\"Rate limit exceeded. Retrying after a delay...\")\n",
        "                    self._handle_rate_limit(response)\n",
        "                    continue\n",
        "                else:\n",
        "                    print(f\"Error: {response.status_code}, {response.text}\")\n",
        "                    break\n",
        "\n",
        "            data = response.json()\n",
        "            items = data.get(\"items\", [])\n",
        "            all_results.extend(items)\n",
        "\n",
        "            time.sleep(delay)\n",
        "\n",
        "        return all_results[:max_repos]\n",
        "\n",
        "    def list_commits(self, repo_owner: str, repo_name: str, per_page: int = 10) -> List[Dict[str, Any]]:\n",
        "        \"\"\"\n",
        "        List commits for a specific repository with pagination.\n",
        "\n",
        "        :param repo_owner: Owner of the repository.\n",
        "        :param repo_name: Name of the repository.\n",
        "        :param per_page: Number of commits to fetch per page.\n",
        "        :return: List of commits.\n",
        "        \"\"\"\n",
        "        all_results: List[Dict[str, Any]] = []\n",
        "        page: int = 1\n",
        "\n",
        "        while True:\n",
        "            url = f\"{self.base_url}/repos/{repo_owner}/{repo_name}/commits\"\n",
        "            params = {\n",
        "                \"per_page\": per_page,\n",
        "                \"page\": page\n",
        "            }\n",
        "            response = requests.get(url, headers=self.headers, params=params)\n",
        "            response = self._handle_rate_limit(response)\n",
        "\n",
        "            if response.status_code == 200:\n",
        "                data = response.json()\n",
        "                all_results.extend(data)\n",
        "                if len(data) < per_page:  # No more pages\n",
        "                    break\n",
        "                page += 1\n",
        "            else:\n",
        "                print(f\"Error: {response.status_code}, {response.text}\")\n",
        "                break\n",
        "\n",
        "        return all_results\n",
        "\n",
        "    def get_content(self, repo_owner: str, repo_name: str, path: str) -> Optional[Dict[str, Any]]:\n",
        "        \"\"\"\n",
        "        Get metadata or content of a file or folder in a repository.\n",
        "\n",
        "        :param repo_owner: Owner of the repository.\n",
        "        :param repo_name: Name of the repository.\n",
        "        :param path: Path to the file or folder.\n",
        "        :return: Dictionary containing file/folder metadata, or None if an error occurs.\n",
        "        \"\"\"\n",
        "        url = f\"{self.base_url}/repos/{repo_owner}/{repo_name}/contents/{path}\"\n",
        "        response = requests.get(url, headers=self.headers)\n",
        "        response = self._handle_rate_limit(response)\n",
        "\n",
        "        if response.status_code == 200:\n",
        "            return response.json()\n",
        "        else:\n",
        "            print(f\"Error: {response.status_code}, {response.text}\")\n",
        "            return None\n",
        "\n",
        "    @staticmethod\n",
        "    def exit_with_error(message: str) -> NoReturn:\n",
        "        \"\"\"\n",
        "        Exit the program with an error message.\n",
        "\n",
        "        :param message: The error message to display.\n",
        "        \"\"\"\n",
        "        print(f\"Error: {message}\")\n",
        "        exit(1)"
      ],
      "metadata": {
        "id": "9S2UoE8eoyF_"
      },
      "execution_count": 50,
      "outputs": []
    },
    {
      "cell_type": "markdown",
      "source": [
        "# Using API (Github PAT is required)"
      ],
      "metadata": {
        "id": "vzQYIopYo4h3"
      }
    },
    {
      "cell_type": "code",
      "source": [
        "# Initialize token\n",
        "token: str = \"token_placeholder\"\n",
        "\n",
        "if token == \"token_placeholder\":\n",
        "    token = input(\"Enter your GitHub Personal Access Token (PAT): \").strip()\n",
        "    if not token:\n",
        "        GitHubAPI.exit_with_error(\"Personal Access Token is required.\")\n",
        "\n",
        "# Initialize GitHub API client\n",
        "github_api = GitHubAPI(token)"
      ],
      "metadata": {
        "id": "gJLpwRB8oZuX"
      },
      "execution_count": null,
      "outputs": []
    },
    {
      "cell_type": "markdown",
      "source": [
        "# Example: Search for repositories"
      ],
      "metadata": {
        "id": "7rR_eZAppDU5"
      }
    },
    {
      "cell_type": "code",
      "source": [
        "query = \"machine learning\"\n",
        "per_page = 10\n",
        "max_repos = 30\n",
        "delay_time = 1\n",
        "\n",
        "repos = github_api.search_repositories(query=query, per_page=per_page, max_repos=max_repos, delay=delay_time)\n",
        "print(f\"Total repositories fetched: {len(repos)}\")\n",
        "for repo in repos:\n",
        "    print(f\"Repo Name: {repo['name']}, Stars: {repo['stargazers_count']}, Url: {repo['html_url']}\")"
      ],
      "metadata": {
        "colab": {
          "base_uri": "https://localhost:8080/"
        },
        "id": "nOZvSJJ5ogC1",
        "outputId": "598ef758-b7d0-41d3-b1d4-33a23d88ac23"
      },
      "execution_count": 52,
      "outputs": [
        {
          "output_type": "stream",
          "name": "stdout",
          "text": [
            "Total repositories fetched: 30\n",
            "Repo Name: tensorflow, Stars: 186553, Url: https://github.com/tensorflow/tensorflow\n",
            "Repo Name: transformers, Stars: 135533, Url: https://github.com/huggingface/transformers\n",
            "Repo Name: ML-For-Beginners, Stars: 69919, Url: https://github.com/microsoft/ML-For-Beginners\n",
            "Repo Name: funNLP, Stars: 69377, Url: https://github.com/fighting41love/funNLP\n",
            "Repo Name: awesome-machine-learning, Stars: 66118, Url: https://github.com/josephmisiti/awesome-machine-learning\n",
            "Repo Name: scikit-learn, Stars: 60253, Url: https://github.com/scikit-learn/scikit-learn\n",
            "Repo Name: gradio, Stars: 34210, Url: https://github.com/gradio-app/gradio\n",
            "Repo Name: C-Plus-Plus, Stars: 30831, Url: https://github.com/TheAlgorithms/C-Plus-Plus\n",
            "Repo Name: linkedin-skill-assessments-quizzes, Stars: 28514, Url: https://github.com/Ebazhanov/linkedin-skill-assessments-quizzes\n",
            "Repo Name: netron, Stars: 28262, Url: https://github.com/lutzroeder/netron\n",
            "Repo Name: machine-learning-for-software-engineers, Stars: 28190, Url: https://github.com/ZuzooVn/machine-learning-for-software-engineers\n",
            "Repo Name: handson-ml2, Stars: 28047, Url: https://github.com/ageron/handson-ml2\n",
            "Repo Name: applied-ml, Stars: 27372, Url: https://github.com/eugeneyan/applied-ml\n",
            "Repo Name: ML-From-Scratch, Stars: 24033, Url: https://github.com/eriklindernoren/ML-From-Scratch\n",
            "Repo Name: homemade-machine-learning, Stars: 23153, Url: https://github.com/trekhleb/homemade-machine-learning\n",
            "Repo Name: shap, Stars: 22957, Url: https://github.com/shap/shap\n",
            "Repo Name: Paddle, Stars: 22292, Url: https://github.com/PaddlePaddle/Paddle\n",
            "Repo Name: 500-AI-Machine-learning-Deep-learning-Computer-vision-NLP-Projects-with-code, Stars: 20645, Url: https://github.com/ashishpatel26/500-AI-Machine-learning-Deep-learning-Computer-vision-NLP-Projects-with-code\n",
            "Repo Name: C, Stars: 19351, Url: https://github.com/TheAlgorithms/C\n",
            "Repo Name: rasa, Stars: 18999, Url: https://github.com/RasaHQ/rasa\n",
            "Repo Name: mlflow, Stars: 18879, Url: https://github.com/mlflow/mlflow\n",
            "Repo Name: best-of-ml-python, Stars: 18161, Url: https://github.com/ml-tooling/best-of-ml-python\n",
            "Repo Name: onnx, Stars: 17992, Url: https://github.com/onnx/onnx\n",
            "Repo Name: stanford-cs-229-machine-learning, Stars: 17689, Url: https://github.com/afshinea/stanford-cs-229-machine-learning\n",
            "Repo Name: awesome-production-machine-learning, Stars: 17641, Url: https://github.com/EthicalML/awesome-production-machine-learning\n",
            "Repo Name: ml-agents, Stars: 17256, Url: https://github.com/Unity-Technologies/ml-agents\n",
            "Repo Name: LightGBM, Stars: 16723, Url: https://github.com/microsoft/LightGBM\n",
            "Repo Name: brpc, Stars: 16564, Url: https://github.com/apache/brpc\n",
            "Repo Name: ML-NLP, Stars: 16098, Url: https://github.com/NLP-LOVE/ML-NLP\n",
            "Repo Name: ML-YouTube-Courses, Stars: 16031, Url: https://github.com/dair-ai/ML-YouTube-Courses\n"
          ]
        }
      ]
    },
    {
      "cell_type": "markdown",
      "source": [
        "# Example: List commits"
      ],
      "metadata": {
        "id": "-H7ZuXqRpGhr"
      }
    },
    {
      "cell_type": "code",
      "source": [
        "repo_owner=\"octocat\"\n",
        "repo_name=\"hello-world\"\n",
        "per_page=5\n",
        "\n",
        "commits = github_api.list_commits(repo_owner=repo_owner, repo_name=repo_name, per_page=per_page)\n",
        "if commits:\n",
        "    for commit in commits:\n",
        "        print(f\"Commit SHA: {commit['sha']},\\n Commit message: {commit['commit']['message']}\")"
      ],
      "metadata": {
        "colab": {
          "base_uri": "https://localhost:8080/"
        },
        "id": "1127PIe-os_R",
        "outputId": "236f5d73-1722-44bd-ece4-5c6d336657c6"
      },
      "execution_count": 53,
      "outputs": [
        {
          "output_type": "stream",
          "name": "stdout",
          "text": [
            "Commit SHA: 7fd1a60b01f91b314f59955a4e4d4e80d8edf11d,\n",
            " Commit message: Merge pull request #6 from Spaceghost/patch-1\n",
            "\n",
            "New line at end of file.\n",
            "Commit SHA: 762941318ee16e59dabbacb1b4049eec22f0d303,\n",
            " Commit message: New line at end of file. --Signed off by Spaceghost\n",
            "Commit SHA: 553c2077f0edc3d5dc5d17262f6aa498e69d6f8e,\n",
            " Commit message: first commit\n"
          ]
        }
      ]
    },
    {
      "cell_type": "markdown",
      "source": [
        "# Example: Get content"
      ],
      "metadata": {
        "id": "47K_UAyGpIuC"
      }
    },
    {
      "cell_type": "code",
      "source": [
        "repo_owner=\"octocat\"\n",
        "repo_name=\"hello-world\"\n",
        "path=\"README\"\n",
        "\n",
        "content = github_api.get_content(repo_owner=repo_owner, repo_name=repo_name, path=path)\n",
        "if content:\n",
        "    print(content)"
      ],
      "metadata": {
        "colab": {
          "base_uri": "https://localhost:8080/"
        },
        "id": "yaJ5lQiyouGg",
        "outputId": "d5fce796-ba41-4888-dbe2-1cbf7983262d"
      },
      "execution_count": 54,
      "outputs": [
        {
          "output_type": "stream",
          "name": "stdout",
          "text": [
            "{'name': 'README', 'path': 'README', 'sha': '980a0d5f19a64b4b30a87d4206aade58726b60e3', 'size': 13, 'url': 'https://api.github.com/repos/octocat/Hello-World/contents/README?ref=master', 'html_url': 'https://github.com/octocat/Hello-World/blob/master/README', 'git_url': 'https://api.github.com/repos/octocat/Hello-World/git/blobs/980a0d5f19a64b4b30a87d4206aade58726b60e3', 'download_url': 'https://raw.githubusercontent.com/octocat/Hello-World/master/README', 'type': 'file', 'content': 'SGVsbG8gV29ybGQhCg==\\n', 'encoding': 'base64', '_links': {'self': 'https://api.github.com/repos/octocat/Hello-World/contents/README?ref=master', 'git': 'https://api.github.com/repos/octocat/Hello-World/git/blobs/980a0d5f19a64b4b30a87d4206aade58726b60e3', 'html': 'https://github.com/octocat/Hello-World/blob/master/README'}}\n"
          ]
        }
      ]
    },
    {
      "cell_type": "code",
      "source": [],
      "metadata": {
        "id": "W4tQ0KHkzfwA"
      },
      "execution_count": 54,
      "outputs": []
    }
  ]
}
